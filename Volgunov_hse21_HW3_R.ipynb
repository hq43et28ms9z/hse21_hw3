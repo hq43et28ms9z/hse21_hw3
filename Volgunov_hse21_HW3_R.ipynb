{
  "nbformat": 4,
  "nbformat_minor": 0,
  "metadata": {
    "colab": {
      "name": "Volgunov_hse21_HW3_R.ipynb",
      "provenance": [],
      "collapsed_sections": []
    },
    "kernelspec": {
      "name": "ir",
      "display_name": "R"
    },
    "language_info": {
      "name": "R"
    }
  },
  "cells": [
    {
      "cell_type": "code",
      "metadata": {
        "id": "XoIBgf5j9Neb"
      },
      "source": [
        "if (!requireNamespace(\"BiocManager\", quietly = TRUE))\n",
        "  install.packages(\"BiocManager\")"
      ],
      "execution_count": null,
      "outputs": []
    },
    {
      "cell_type": "code",
      "metadata": {
        "id": "F7O0tqAa9h9q",
        "colab": {
          "base_uri": "https://localhost:8080/"
        },
        "outputId": "960b0e37-54d6-421e-885e-382c4c525945"
      },
      "source": [
        "BiocManager::install(\"DESeq2\")"
      ],
      "execution_count": null,
      "outputs": [
        {
          "output_type": "stream",
          "name": "stderr",
          "text": [
            "'getOption(\"repos\")' replaces Bioconductor standard repositories, see\n",
            "'?repositories' for details\n",
            "\n",
            "replacement repositories:\n",
            "    CRAN: https://cran.rstudio.com\n",
            "\n",
            "\n",
            "Bioconductor version 3.14 (BiocManager 1.30.16), R 4.1.2 (2021-11-01)\n",
            "\n",
            "Warning message:\n",
            "“package(s) not installed when version(s) same as current; use `force = TRUE` to\n",
            "  re-install: 'DESeq2'”\n",
            "Old packages: 'backports', 'brio', 'cpp11', 'credentials', 'devtools',\n",
            "  'digest', 'fs', 'glue', 'memoise', 'openssl', 'pkgbuild', 'pkgload', 'readr',\n",
            "  'remotes', 'stringi', 'vroom', 'withr', 'xml2', 'nlme'\n",
            "\n"
          ]
        }
      ]
    },
    {
      "cell_type": "code",
      "metadata": {
        "id": "x2qWzgkc-Dbq",
        "colab": {
          "base_uri": "https://localhost:8080/"
        },
        "outputId": "cd69e432-7a11-48bc-e905-86f963d4321b"
      },
      "source": [
        "install.packages(\"pheatmap\")"
      ],
      "execution_count": null,
      "outputs": [
        {
          "output_type": "stream",
          "name": "stderr",
          "text": [
            "Installing package into ‘/usr/local/lib/R/site-library’\n",
            "(as ‘lib’ is unspecified)\n",
            "\n"
          ]
        }
      ]
    },
    {
      "cell_type": "code",
      "metadata": {
        "id": "IsJlShFE-FiX"
      },
      "source": [
        "library(\"DESeq2\")\n",
        "library(\"pheatmap\")"
      ],
      "execution_count": null,
      "outputs": []
    },
    {
      "cell_type": "code",
      "metadata": {
        "id": "AnLRX113G2if"
      },
      "source": [
        "info   <- read.table(\"ALL.info\", header=TRUE, row.names=\"sample\")\n",
        "counts <- as.matrix(read.table(\"ALL.counts\", header=TRUE, row.names=1, sep = \",\"))\n"
      ],
      "execution_count": null,
      "outputs": []
    },
    {
      "cell_type": "code",
      "metadata": {
        "colab": {
          "base_uri": "https://localhost:8080/",
          "height": 235
        },
        "id": "1PquFfR4AaZs",
        "outputId": "f715eff2-0ba5-498b-bd7e-55a99d17692c"
      },
      "source": [
        "dds <- DESeqDataSetFromMatrix(countData = counts, colData = info, design = ~ condition)\n"
      ],
      "execution_count": null,
      "outputs": [
        {
          "output_type": "error",
          "ename": "ERROR",
          "evalue": "ignored",
          "traceback": [
            "Error in DESeqDataSetFromMatrix(countData = counts, colData = info, design = ~condition): rownames of the colData:\n   c1,c2,c3,r1,r2,r3 \n  are not in the same order as the colnames of the countData:\n   r1,r2,r3,c1,c2,c3\nTraceback:\n",
            "1. DESeqDataSetFromMatrix(countData = counts, colData = info, design = ~condition)",
            "2. stop(paste(\"rownames of the colData:\\n  \", paste(rownames(colData), \n .     collapse = \",\"), \"\\n  are not in the same order as the colnames of the countData:\\n  \", \n .     paste(colnames(countData), collapse = \",\")))"
          ]
        }
      ]
    },
    {
      "cell_type": "code",
      "metadata": {
        "colab": {
          "base_uri": "https://localhost:8080/",
          "height": 286
        },
        "id": "FtM-Pup8Afu5",
        "outputId": "c229f40d-527b-47e5-9908-1fe006a6c4b2"
      },
      "source": [
        "head(info)"
      ],
      "execution_count": null,
      "outputs": [
        {
          "output_type": "display_data",
          "data": {
            "text/plain": [
              "   id         condition    \n",
              "c1 SRR3414635 control      \n",
              "c2 SRR3414636 control      \n",
              "c3 SRR3414637 control      \n",
              "r1 SRR3414629 reprogramming\n",
              "r2 SRR3414630 reprogramming\n",
              "r3 SRR3414631 reprogramming"
            ],
            "text/latex": "A data.frame: 6 × 2\n\\begin{tabular}{r|ll}\n  & id & condition\\\\\n  & <chr> & <chr>\\\\\n\\hline\n\tc1 & SRR3414635 & control      \\\\\n\tc2 & SRR3414636 & control      \\\\\n\tc3 & SRR3414637 & control      \\\\\n\tr1 & SRR3414629 & reprogramming\\\\\n\tr2 & SRR3414630 & reprogramming\\\\\n\tr3 & SRR3414631 & reprogramming\\\\\n\\end{tabular}\n",
            "text/markdown": "\nA data.frame: 6 × 2\n\n| <!--/--> | id &lt;chr&gt; | condition &lt;chr&gt; |\n|---|---|---|\n| c1 | SRR3414635 | control       |\n| c2 | SRR3414636 | control       |\n| c3 | SRR3414637 | control       |\n| r1 | SRR3414629 | reprogramming |\n| r2 | SRR3414630 | reprogramming |\n| r3 | SRR3414631 | reprogramming |\n\n",
            "text/html": [
              "<table class=\"dataframe\">\n",
              "<caption>A data.frame: 6 × 2</caption>\n",
              "<thead>\n",
              "\t<tr><th></th><th scope=col>id</th><th scope=col>condition</th></tr>\n",
              "\t<tr><th></th><th scope=col>&lt;chr&gt;</th><th scope=col>&lt;chr&gt;</th></tr>\n",
              "</thead>\n",
              "<tbody>\n",
              "\t<tr><th scope=row>c1</th><td>SRR3414635</td><td>control      </td></tr>\n",
              "\t<tr><th scope=row>c2</th><td>SRR3414636</td><td>control      </td></tr>\n",
              "\t<tr><th scope=row>c3</th><td>SRR3414637</td><td>control      </td></tr>\n",
              "\t<tr><th scope=row>r1</th><td>SRR3414629</td><td>reprogramming</td></tr>\n",
              "\t<tr><th scope=row>r2</th><td>SRR3414630</td><td>reprogramming</td></tr>\n",
              "\t<tr><th scope=row>r3</th><td>SRR3414631</td><td>reprogramming</td></tr>\n",
              "</tbody>\n",
              "</table>\n"
            ]
          },
          "metadata": {}
        }
      ]
    },
    {
      "cell_type": "code",
      "metadata": {
        "colab": {
          "base_uri": "https://localhost:8080/",
          "height": 255
        },
        "id": "TBxTARCLewJf",
        "outputId": "fb945f1a-2c72-44b0-9e5c-df72cc4de304"
      },
      "source": [
        "head(counts)"
      ],
      "execution_count": null,
      "outputs": [
        {
          "output_type": "display_data",
          "data": {
            "text/plain": [
              "                      r1    r2    r3    c1    c2    c3  \n",
              "ENSMUSG00000000001.4   4489  3919  5700  3431  2077  190\n",
              "ENSMUSG00000000003.15     0     0     0     0     0    0\n",
              "ENSMUSG00000000028.15   345   273   468   150    82    3\n",
              "ENSMUSG00000000031.16 64504 33249 64992 55526 28317 2642\n",
              "ENSMUSG00000000037.17    77    68    87    41    25    2\n",
              "ENSMUSG00000000049.11     4     1     1    10     7    1"
            ],
            "text/latex": "A matrix: 6 × 6 of type int\n\\begin{tabular}{r|llllll}\n  & r1 & r2 & r3 & c1 & c2 & c3\\\\\n\\hline\n\tENSMUSG00000000001.4 &  4489 &  3919 &  5700 &  3431 &  2077 &  190\\\\\n\tENSMUSG00000000003.15 &     0 &     0 &     0 &     0 &     0 &    0\\\\\n\tENSMUSG00000000028.15 &   345 &   273 &   468 &   150 &    82 &    3\\\\\n\tENSMUSG00000000031.16 & 64504 & 33249 & 64992 & 55526 & 28317 & 2642\\\\\n\tENSMUSG00000000037.17 &    77 &    68 &    87 &    41 &    25 &    2\\\\\n\tENSMUSG00000000049.11 &     4 &     1 &     1 &    10 &     7 &    1\\\\\n\\end{tabular}\n",
            "text/markdown": "\nA matrix: 6 × 6 of type int\n\n| <!--/--> | r1 | r2 | r3 | c1 | c2 | c3 |\n|---|---|---|---|---|---|---|\n| ENSMUSG00000000001.4 |  4489 |  3919 |  5700 |  3431 |  2077 |  190 |\n| ENSMUSG00000000003.15 |     0 |     0 |     0 |     0 |     0 |    0 |\n| ENSMUSG00000000028.15 |   345 |   273 |   468 |   150 |    82 |    3 |\n| ENSMUSG00000000031.16 | 64504 | 33249 | 64992 | 55526 | 28317 | 2642 |\n| ENSMUSG00000000037.17 |    77 |    68 |    87 |    41 |    25 |    2 |\n| ENSMUSG00000000049.11 |     4 |     1 |     1 |    10 |     7 |    1 |\n\n",
            "text/html": [
              "<table class=\"dataframe\">\n",
              "<caption>A matrix: 6 × 6 of type int</caption>\n",
              "<thead>\n",
              "\t<tr><th></th><th scope=col>r1</th><th scope=col>r2</th><th scope=col>r3</th><th scope=col>c1</th><th scope=col>c2</th><th scope=col>c3</th></tr>\n",
              "</thead>\n",
              "<tbody>\n",
              "\t<tr><th scope=row>ENSMUSG00000000001.4</th><td> 4489</td><td> 3919</td><td> 5700</td><td> 3431</td><td> 2077</td><td> 190</td></tr>\n",
              "\t<tr><th scope=row>ENSMUSG00000000003.15</th><td>    0</td><td>    0</td><td>    0</td><td>    0</td><td>    0</td><td>   0</td></tr>\n",
              "\t<tr><th scope=row>ENSMUSG00000000028.15</th><td>  345</td><td>  273</td><td>  468</td><td>  150</td><td>   82</td><td>   3</td></tr>\n",
              "\t<tr><th scope=row>ENSMUSG00000000031.16</th><td>64504</td><td>33249</td><td>64992</td><td>55526</td><td>28317</td><td>2642</td></tr>\n",
              "\t<tr><th scope=row>ENSMUSG00000000037.17</th><td>   77</td><td>   68</td><td>   87</td><td>   41</td><td>   25</td><td>   2</td></tr>\n",
              "\t<tr><th scope=row>ENSMUSG00000000049.11</th><td>    4</td><td>    1</td><td>    1</td><td>   10</td><td>    7</td><td>   1</td></tr>\n",
              "</tbody>\n",
              "</table>\n"
            ]
          },
          "metadata": {}
        }
      ]
    },
    {
      "cell_type": "code",
      "metadata": {
        "colab": {
          "base_uri": "https://localhost:8080/",
          "height": 130
        },
        "id": "zGNnfTWYAkvS",
        "outputId": "ab1f4bb7-26f2-4b7c-ee8b-471a41141886"
      },
      "source": [
        "# Tell the DDS which columns correspond to the 'reference' level of gene expression\n",
        "dds$condition <- relevel(dds$condition, ref=\"control\")\n",
        "\n",
        "dds <- DESeq(dds)\n",
        "res <- results(dds, alpha=0.01)   # Specify a more strict threshold on padj. This threshold is called 'alpha'\n"
      ],
      "execution_count": null,
      "outputs": [
        {
          "output_type": "error",
          "ename": "ERROR",
          "evalue": "ignored",
          "traceback": [
            "Error in relevel(dds$condition, ref = \"control\"): object 'dds' not found\nTraceback:\n",
            "1. relevel(dds$condition, ref = \"control\")"
          ]
        }
      ]
    },
    {
      "cell_type": "code",
      "metadata": {
        "colab": {
          "base_uri": "https://localhost:8080/",
          "height": 217
        },
        "id": "_U4_9cJZArWm",
        "outputId": "9303bd76-4f3f-4b26-8f5e-366b2a3a468c"
      },
      "source": [
        "rld <- rlog(dds)\n",
        "sampleDists <- dist(t(assay(rld)))\n",
        "sampleDistMatrix <- as.matrix(sampleDists)\n",
        "pheatmap(sampleDistMatrix, clustering_distance_rows=sampleDists, clustering_distance_cols=sampleDists)\n"
      ],
      "execution_count": null,
      "outputs": [
        {
          "output_type": "error",
          "ename": "ERROR",
          "evalue": "ignored",
          "traceback": [
            "Error in h(simpleError(msg, call)): error in evaluating the argument 'x' in selecting a method for function 'ncol': object 'dds' not found\nTraceback:\n",
            "1. rlog(dds)",
            "2. ncol(object)",
            "3. .handleSimpleError(function (cond) \n . .Internal(C_tryCatchHelper(addr, 1L, cond)), \"object 'dds' not found\", \n .     base::quote(ncol(object)))",
            "4. h(simpleError(msg, call))"
          ]
        }
      ]
    },
    {
      "cell_type": "code",
      "metadata": {
        "id": "nh6z7TvDAu_x",
        "colab": {
          "base_uri": "https://localhost:8080/",
          "height": 96
        },
        "outputId": "7d6423cf-75a5-4cd5-e64f-5010e8b20096"
      },
      "source": [
        "resOrdered <- res[order(res$padj),]\n",
        "resSignificant <- subset(resOrdered, padj < 0.01)\n",
        "write.table(resSignificant, \"differentially_expressed_genes.txt\", sep=\"\\t\", row.names=TRUE, quote = FALSE)"
      ],
      "execution_count": null,
      "outputs": [
        {
          "output_type": "error",
          "ename": "ERROR",
          "evalue": "ignored",
          "traceback": [
            "Error in eval(expr, envir, enclos): object 'res' not found\nTraceback:\n"
          ]
        }
      ]
    },
    {
      "cell_type": "code",
      "metadata": {
        "colab": {
          "base_uri": "https://localhost:8080/",
          "height": 200
        },
        "id": "-xg0Vr8rAyhQ",
        "outputId": "cb0ec7ae-e81a-4450-9acf-5811e831b8e7"
      },
      "source": [
        "plotMA(res, ylim=c(-10,10))"
      ],
      "execution_count": null,
      "outputs": [
        {
          "output_type": "error",
          "ename": "ERROR",
          "evalue": "ignored",
          "traceback": [
            "Error in h(simpleError(msg, call)): error in evaluating the argument 'object' in selecting a method for function 'plotMA': object 'res' not found\nTraceback:\n",
            "1. plotMA(res, ylim = c(-10, 10))",
            "2. .handleSimpleError(function (cond) \n . .Internal(C_tryCatchHelper(addr, 1L, cond)), \"object 'res' not found\", \n .     base::quote(plotMA(res, ylim = c(-10, 10))))",
            "3. h(simpleError(msg, call))"
          ]
        }
      ]
    },
    {
      "cell_type": "code",
      "metadata": {
        "colab": {
          "base_uri": "https://localhost:8080/",
          "height": 391
        },
        "id": "dRPKldloA8z2",
        "outputId": "8ee4a6d0-5895-4886-e113-7441c5fd963e"
      },
      "source": [
        "select <- order(rowMeans(counts(dds,normalized=TRUE)),decreasing=TRUE)[1:20]\n",
        "df <- as.data.frame(colData(dds)[,c(\"condition\",\"id\")])\n",
        "pheatmap(assay(rld)[select,], cluster_rows=FALSE, show_rownames=FALSE,cluster_cols=FALSE, annotation_col=df)\n"
      ],
      "execution_count": null,
      "outputs": [
        {
          "output_type": "error",
          "ename": "ERROR",
          "evalue": "ignored",
          "traceback": [
            "Error in h(simpleError(msg, call)): error in evaluating the argument 'x' in selecting a method for function 'rowMeans': error in evaluating the argument 'object' in selecting a method for function 'counts': object 'dds' not found\nTraceback:\n",
            "1. order(rowMeans(counts(dds, normalized = TRUE)), decreasing = TRUE)",
            "2. standardGeneric(\"order\")",
            "3. eval(quote(list(...)), env)",
            "4. eval(quote(list(...)), env)",
            "5. eval(quote(list(...)), env)",
            "6. rowMeans(counts(dds, normalized = TRUE))",
            "7. counts(dds, normalized = TRUE)",
            "8. .handleSimpleError(function (cond) \n . .Internal(C_tryCatchHelper(addr, 1L, cond)), \"object 'dds' not found\", \n .     base::quote(counts(dds, normalized = TRUE)))",
            "9. h(simpleError(msg, call))",
            "10. .handleSimpleError(function (cond) \n  . .Internal(C_tryCatchHelper(addr, 1L, cond)), \"error in evaluating the argument 'object' in selecting a method for function 'counts': object 'dds' not found\", \n  .     base::quote(h(simpleError(msg, call))))",
            "11. h(simpleError(msg, call))"
          ]
        }
      ]
    },
    {
      "cell_type": "code",
      "metadata": {
        "colab": {
          "base_uri": "https://localhost:8080/",
          "height": 96
        },
        "id": "xq7Y3x9_BEDq",
        "outputId": "80f3eb93-16bd-4141-a424-46c2051e622a"
      },
      "source": [
        "res[156,]\n",
        "plotCounts(dds, gene=1, intgroup=\"condition\")"
      ],
      "execution_count": null,
      "outputs": [
        {
          "output_type": "error",
          "ename": "ERROR",
          "evalue": "ignored",
          "traceback": [
            "Error in eval(expr, envir, enclos): object 'res' not found\nTraceback:\n"
          ]
        }
      ]
    }
  ]
}